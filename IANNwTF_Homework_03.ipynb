{
  "nbformat": 4,
  "nbformat_minor": 0,
  "metadata": {
    "colab": {
      "name": "IANNwTF_Homework_03.ipynb",
      "provenance": [],
      "collapsed_sections": [],
      "authorship_tag": "ABX9TyO5/vA9sNX9JWbWhntXsdR4",
      "include_colab_link": true
    },
    "kernelspec": {
      "name": "python3",
      "display_name": "Python 3"
    },
    "language_info": {
      "name": "python"
    }
  },
  "cells": [
    {
      "cell_type": "markdown",
      "metadata": {
        "id": "view-in-github",
        "colab_type": "text"
      },
      "source": [
        "<a href=\"https://colab.research.google.com/github/LDankert/ANNs-Tensorflow/blob/verasBranch/IANNwTF_Homework_03.ipynb\" target=\"_parent\"><img src=\"https://colab.research.google.com/assets/colab-badge.svg\" alt=\"Open In Colab\"/></a>"
      ]
    },
    {
      "cell_type": "code",
      "metadata": {
        "id": "eouhZgDdCdO0"
      },
      "source": [
        "import numpy as np\n",
        "import matplotlib.pyplot as plt\n",
        "import tensorflow as tf\n",
        "import tensorflow_datasets as tfds\n",
        "import time"
      ],
      "execution_count": 160,
      "outputs": []
    },
    {
      "cell_type": "markdown",
      "metadata": {
        "id": "8L4Ct-4SDt5J"
      },
      "source": [
        "## **1. Dataset**"
      ]
    },
    {
      "cell_type": "code",
      "metadata": {
        "id": "jiAmt5y8D56a"
      },
      "source": [
        "def onehotify(tensor):\n",
        "  vocab = {'A':'1', 'C': '2', 'G':'3', 'T':'0'} \n",
        "  for key in vocab.keys():\n",
        "    tensor = tf.strings.regex_replace(tensor, key, vocab[key]) \n",
        "  split = tf.strings.bytes_split(tensor)\n",
        "  labels = tf.cast(tf.strings.to_number(split), tf.uint8) \n",
        "  onehot = tf.one_hot(labels, 4)\n",
        "  onehot = tf.reshape(onehot, (-1,))\n",
        "  return onehot"
      ],
      "execution_count": 161,
      "outputs": []
    },
    {
      "cell_type": "code",
      "metadata": {
        "id": "rknxMNUsTGFD"
      },
      "source": [
        "train_dataset = tfds.load('genomics_ood', split='train[:10%]', shuffle_files=True, as_supervised=True)\n",
        "test_dataset = tfds.load('genomics_ood', split='test[:1%]', shuffle_files=True, as_supervised=True)"
      ],
      "execution_count": 162,
      "outputs": []
    },
    {
      "cell_type": "code",
      "metadata": {
        "id": "YMF89HJGohsr"
      },
      "source": [
        "train_ds = train_dataset.map(lambda x, y: (onehotify(x), tf.one_hot(y, 10)))\n",
        "test_ds = test_dataset.map(lambda x, y: (onehotify(x), tf.one_hot(y, 10)))"
      ],
      "execution_count": null,
      "outputs": []
    },
    {
      "cell_type": "code",
      "metadata": {
        "id": "Cev_ZNUdsvJD"
      },
      "source": [
        "# Shuffle the training and test datasets.\n",
        "train_ds = train_ds.shuffle(buffer_size=1000)\n",
        "test_ds = test_ds.shuffle(buffer_size=1000)\n",
        "\n",
        "# Choose a mini-batch size of data to be used per iteration. \n",
        "train_ds = train_ds.batch(256)\n",
        "test_ds = test_ds.batch(256)\n",
        "\n",
        "# Prefetch the next batch of data.\n",
        "train_ds = train_ds.prefetch(16)\n",
        "test_ds = test_ds.prefetch(16)"
      ],
      "execution_count": 164,
      "outputs": []
    },
    {
      "cell_type": "code",
      "metadata": {
        "id": "Y391enX0u2DP"
      },
      "source": [
        "class Model(tf.keras.Model):\n",
        "  \n",
        "  def __init__(self):\n",
        "    super().__init__()\n",
        "    self.hidden_layer_1 = tf.keras.layers.Dense(units=256,\n",
        "                                          activation=tf.keras.activations.sigmoid)\n",
        "    self.hidden_layer_2 = tf.keras.layers.Dense(units=256,\n",
        "                                          activation=tf.keras.activations.sigmoid)\n",
        "    self.output_layer = tf.keras.layers.Dense(units=10,\n",
        "                                        activation=tf.keras.activations.softmax)\n",
        "    \n",
        "  def call(self, inputs):\n",
        "    x = self.hidden_layer_1(inputs)\n",
        "    x = self.hidden_layer_2(x)\n",
        "    x = self.output_layer(x)\n",
        "    return x"
      ],
      "execution_count": 165,
      "outputs": []
    },
    {
      "cell_type": "code",
      "metadata": {
        "id": "4fcvUu6f9_kY"
      },
      "source": [
        "def train_step(model, input, target, loss_function, optimizer):\n",
        "\n",
        "  with tf.GradientTape() as tape:\n",
        "    prediction = model(input)\n",
        "    train_loss = loss_function(target, prediction)\n",
        "    sample_training_accuracy =  np.argmax(target, axis=1) == np.argmax(prediction, axis=1)\n",
        "    sample_training_accuracy = np.mean(sample_training_accuracy)\n",
        "    gradients = tape.gradient(train_loss, model.trainable_variables)\n",
        "  optimizer.apply_gradients(zip(gradients, model.trainable_variables))\n",
        "  \n",
        "  return train_loss , sample_training_accuracy\n",
        "\n",
        "def test(model, test_data, loss_function):\n",
        "  # test over complete test data\n",
        "  test_accuracy_aggregator = []\n",
        "  test_loss_aggregator = []\n",
        "\n",
        "  for (input, target) in test_data:\n",
        "    prediction = model(input)\n",
        "    sample_test_loss = loss_function(target, prediction)\n",
        "    sample_test_accuracy =  np.argmax(target, axis=1) == np.argmax(prediction, axis=1)\n",
        "    sample_test_accuracy = np.mean(sample_test_accuracy)\n",
        "    test_loss_aggregator.append(sample_test_loss.numpy())\n",
        "    test_accuracy_aggregator.append(np.mean(sample_test_accuracy))\n",
        "\n",
        "  test_loss = np.mean(test_loss_aggregator)\n",
        "  test_accuracy = np.mean(test_accuracy_aggregator)\n",
        "\n",
        "  return test_loss, test_accuracy"
      ],
      "execution_count": 166,
      "outputs": []
    },
    {
      "cell_type": "code",
      "metadata": {
        "colab": {
          "base_uri": "https://localhost:8080/"
        },
        "id": "SA8XuwD4dHHW",
        "outputId": "628f96a7-eb94-47f7-d725-9fa9c855746b"
      },
      "source": [
        "tf.keras.backend.clear_session()\n",
        "\n",
        "# Hyperparameters\n",
        "num_epochs = 10\n",
        "learning_rate = 0.1\n",
        "\n",
        "start = time.time()\n",
        "\n",
        "# Initialize the model.\n",
        "model = Model()\n",
        "# Initialize the loss: categorical cross entropy. \n",
        "cross_entropy_loss = tf.keras.losses.CategoricalCrossentropy()\n",
        "# Initialize the optimizer: SGD with default parameters. \n",
        "optimizer = tf.keras.optimizers.SGD(learning_rate)\n",
        "\n",
        "# Initialize lists for later visualization.\n",
        "train_losses = []\n",
        "train_accuracies = []\n",
        "\n",
        "test_losses = []\n",
        "test_accuracies = []\n",
        "\n",
        "# Testing once before we begin.\n",
        "test_loss, test_accuracy = test(model, test_ds, cross_entropy_loss)\n",
        "test_losses.append(test_loss)\n",
        "test_accuracies.append(test_accuracy)\n",
        "\n",
        "# Check how model performs on train data once before we begin.\n",
        "train_loss, train_accuracy = test(model, train_ds, cross_entropy_loss)\n",
        "train_losses.append(train_loss)\n",
        "train_accuracies.append(train_accuracy)\n",
        "\n",
        "# We train for num_epochs epochs.\n",
        "for epoch in range(num_epochs):\n",
        "    print(f'Epoch: {str(epoch)} starting with accuracy {test_accuracies[-1]}')\n",
        "\n",
        "    # Training (and checking in with training).\n",
        "    epoch_loss_agg = []\n",
        "    epoch_acc_agg = []\n",
        "    for input, target in train_ds:\n",
        "        train_loss, train_accuracy = train_step(model, input, target, cross_entropy_loss, optimizer)\n",
        "        epoch_loss_agg.append(train_loss)\n",
        "        epoch_acc_agg.append(train_accuracy)\n",
        "    \n",
        "    # Track training loss and accuracy.\n",
        "    train_losses.append(tf.reduce_mean(epoch_loss_agg))\n",
        "    train_accuracies.append(tf.reduce_mean(epoch_acc_agg))\n",
        "\n",
        "    # Testing\n",
        "    test_loss, test_accuracy = test(model, test_ds, cross_entropy_loss)\n",
        "    test_losses.append(test_loss)\n",
        "    test_accuracies.append(test_accuracy)\n",
        "\n",
        "end = time.time()\n",
        "execution_time = int((end - start)/60)\n",
        "\n",
        "print(f'Execution time: {execution_time} minutes and {execution_time % 60} seconds.')"
      ],
      "execution_count": 167,
      "outputs": [
        {
          "output_type": "stream",
          "name": "stdout",
          "text": [
            "Epoch: 0 starting with accuracy 0.10125942887931035\n",
            "Epoch: 1 starting with accuracy 0.3192349137931034\n",
            "Epoch: 2 starting with accuracy 0.3174164870689655\n",
            "Epoch: 3 starting with accuracy 0.3793103448275862\n",
            "Epoch: 4 starting with accuracy 0.32553205818965514\n",
            "Epoch: 5 starting with accuracy 0.3193696120689655\n",
            "Epoch: 6 starting with accuracy 0.3462755926724138\n",
            "Epoch: 7 starting with accuracy 0.36169854525862066\n",
            "Epoch: 8 starting with accuracy 0.3339507004310345\n",
            "Epoch: 9 starting with accuracy 0.3726427801724138\n",
            "Execution time: 7 minutes and 7 seconds.\n"
          ]
        }
      ]
    },
    {
      "cell_type": "code",
      "metadata": {
        "colab": {
          "base_uri": "https://localhost:8080/",
          "height": 298
        },
        "id": "tZEuPb9H3T-E",
        "outputId": "66020b08-3c61-48c0-cc01-12eb0c60079e"
      },
      "source": [
        "# Visualize loss training and test data. \n",
        "plt.figure()\n",
        "line1, = plt.plot(train_losses, color = 'blue')\n",
        "line2, = plt.plot(test_losses, color = 'red')\n",
        "plt.xlabel(\"Training steps (epochs)\", fontsize = 12)\n",
        "plt.ylabel(\"Loss\", fontsize = 12)\n",
        "plt.legend((line1, line2),(\"training\", \"test\"))\n",
        "plt.title('Loss for training and test data')\n",
        "plt.show()"
      ],
      "execution_count": 170,
      "outputs": [
        {
          "output_type": "display_data",
          "data": {
            "image/png": "[encoded data removed]",
            "text/plain": [
              "<Figure size 432x288 with 1 Axes>"
            ]
          },
          "metadata": {
            "needs_background": "light"
          }
        }
      ]
    },
    {
      "cell_type": "code",
      "metadata": {
        "colab": {
          "base_uri": "https://localhost:8080/",
          "height": 298
        },
        "id": "UmfyL0ld3T3k",
        "outputId": "620133b1-f561-434e-dade-b5a54d326947"
      },
      "source": [
        "# Visualize accuracy for training and test data. \n",
        "plt.figure()\n",
        "line1, = plt.plot(train_accuracies, linestyle = 'dashed', color = 'orange')\n",
        "line2, = plt.plot(test_accuracies, linestyle = 'dashed', color = 'green')\n",
        "plt.xlabel(\"Training steps\", fontsize = 12)\n",
        "plt.ylabel(\"Accuracy\", fontsize = 12)\n",
        "plt.legend((line1, line2),(\"training\", \"test\"))\n",
        "plt.title('Accuracy for traing and test data')\n",
        "plt.show()"
      ],
      "execution_count": 171,
      "outputs": [
        {
          "output_type": "display_data",
          "data": {
            "image/png": "[encoded data removed]",
            "text/plain": [
              "<Figure size 432x288 with 1 Axes>"
            ]
          },
          "metadata": {
            "needs_background": "light"
          }
        }
      ]
    }
  ]
}