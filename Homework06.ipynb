{
  "nbformat": 4,
  "nbformat_minor": 0,
  "metadata": {
    "colab": {
      "name": "Homework06.ipynb",
      "provenance": [],
      "authorship_tag": "ABX9TyM8U6Bb29+33likX62gHZVa",
      "include_colab_link": true
    },
    "kernelspec": {
      "name": "python3",
      "display_name": "Python 3"
    },
    "language_info": {
      "name": "python"
    }
  },
  "cells": [
    {
      "cell_type": "markdown",
      "metadata": {
        "id": "view-in-github",
        "colab_type": "text"
      },
      "source": [
        "<a href=\"https://colab.research.google.com/github/LDankert/ANNs-Tensorflow/blob/main/Homework06.ipynb\" target=\"_parent\"><img src=\"https://colab.research.google.com/assets/colab-badge.svg\" alt=\"Open In Colab\"/></a>"
      ]
    },
    {
      "cell_type": "code",
      "metadata": {
        "id": "Jc1DI2Ts49LH"
      },
      "source": [
        "import tensorflow as tf\n",
        "import tensorflow_datasets as tfds\n",
        "import numpy as np\n",
        "import matplotlib.pyplot as plt\n",
        "import time"
      ],
      "execution_count": null,
      "outputs": []
    },
    {
      "cell_type": "markdown",
      "metadata": {
        "id": "86mm8G_l6Ilf"
      },
      "source": [
        "## **1. Preprocessing**"
      ]
    },
    {
      "cell_type": "code",
      "metadata": {
        "colab": {
          "base_uri": "https://localhost:8080/",
          "height": 444
        },
        "id": "LJMa2q666UnC",
        "outputId": "f6f7aded-f4bc-4a7c-dc7a-5c77222391a3"
      },
      "source": [
        "(train_ds, test_ds), info = tfds.load('cifar10', split=['train', 'test'], shuffle_files=True, as_supervised=True, with_info=True)\n",
        "\n",
        "def preprocess_dataset(dataset):\n",
        "  dataset = dataset.map(lambda img, target: (tf.cast(img, tf.float32), target))\n",
        "  dataset = dataset.map(lambda img, target: ((img/128.)-1., target))\n",
        "  dataset = dataset.map(lambda img, target: (img, tf.one_hot(target, depth=10)))\n",
        "  dataset = dataset.shuffle(buffer_size=1000)\n",
        "  dataset = dataset.batch(64)\n",
        "  dataset = dataset.prefetch(2) \n",
        "  return dataset\n",
        "\n",
        "training_ds = train_ds.apply(preprocess_dataset)\n",
        "testing_ds = test_ds.apply(preprocess_dataset)\n",
        "\n",
        "tfds.as_dataframe(train_ds.take(10), info)"
      ],
      "execution_count": null,
      "outputs": [
        {
          "output_type": "execute_result",
          "data": {
            "text/html": [
              "<style  type=\"text/css\" >\n",
              "</style><table id=\"T_d5aec9c6_55f2_11ec_ac88_0242ac1c0002\" ><thead>    <tr>        <th class=\"blank level0\" ></th>        <th class=\"col_heading level0 col0\" >image</th>        <th class=\"col_heading level0 col1\" >label</th>    </tr></thead><tbody>\n",
              "                <tr>\n",
              "                        <th id=\"T_d5aec9c6_55f2_11ec_ac88_0242ac1c0002level0_row0\" class=\"row_heading level0 row0\" >0</th>\n",
              "                        <td id=\"T_d5aec9c6_55f2_11ec_ac88_0242ac1c0002row0_col0\" class=\"data row0 col0\" ><img src=\"data:image/png;base64,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\" alt=\"Img\" /></td>\n",
              "                        <td id=\"T_d5aec9c6_55f2_11ec_ac88_0242ac1c0002row0_col1\" class=\"data row0 col1\" >7 (horse)</td>\n",
              "            </tr>\n",
              "            <tr>\n",
              "                        <th id=\"T_d5aec9c6_55f2_11ec_ac88_0242ac1c0002level0_row1\" class=\"row_heading level0 row1\" >1</th>\n",
              "                        <td id=\"T_d5aec9c6_55f2_11ec_ac88_0242ac1c0002row1_col0\" class=\"data row1 col0\" ><img src=\"data:image/png;base64,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\" alt=\"Img\" /></td>\n",
              "                        <td id=\"T_d5aec9c6_55f2_11ec_ac88_0242ac1c0002row1_col1\" class=\"data row1 col1\" >8 (ship)</td>\n",
              "            </tr>\n",
              "            <tr>\n",
              "                        <th id=\"T_d5aec9c6_55f2_11ec_ac88_0242ac1c0002level0_row2\" class=\"row_heading level0 row2\" >2</th>\n",
              "                        <td id=\"T_d5aec9c6_55f2_11ec_ac88_0242ac1c0002row2_col0\" class=\"data row2 col0\" ><img src=\"data:image/png;base64,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\" alt=\"Img\" /></td>\n",
              "                        <td id=\"T_d5aec9c6_55f2_11ec_ac88_0242ac1c0002row2_col1\" class=\"data row2 col1\" >4 (deer)</td>\n",
              "            </tr>\n",
              "            <tr>\n",
              "                        <th id=\"T_d5aec9c6_55f2_11ec_ac88_0242ac1c0002level0_row3\" class=\"row_heading level0 row3\" >3</th>\n",
              "                        <td id=\"T_d5aec9c6_55f2_11ec_ac88_0242ac1c0002row3_col0\" class=\"data row3 col0\" ><img src=\"data:image/png;base64,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\" alt=\"Img\" /></td>\n",
              "                        <td id=\"T_d5aec9c6_55f2_11ec_ac88_0242ac1c0002row3_col1\" class=\"data row3 col1\" >4 (deer)</td>\n",
              "            </tr>\n",
              "            <tr>\n",
              "                        <th id=\"T_d5aec9c6_55f2_11ec_ac88_0242ac1c0002level0_row4\" class=\"row_heading level0 row4\" >4</th>\n",
              "                        <td id=\"T_d5aec9c6_55f2_11ec_ac88_0242ac1c0002row4_col0\" class=\"data row4 col0\" ><img src=\"data:image/png;base64,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\" alt=\"Img\" /></td>\n",
              "                        <td id=\"T_d5aec9c6_55f2_11ec_ac88_0242ac1c0002row4_col1\" class=\"data row4 col1\" >6 (frog)</td>\n",
              "            </tr>\n",
              "            <tr>\n",
              "                        <th id=\"T_d5aec9c6_55f2_11ec_ac88_0242ac1c0002level0_row5\" class=\"row_heading level0 row5\" >5</th>\n",
              "                        <td id=\"T_d5aec9c6_55f2_11ec_ac88_0242ac1c0002row5_col0\" class=\"data row5 col0\" ><img src=\"data:image/png;base64,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\" alt=\"Img\" /></td>\n",
              "                        <td id=\"T_d5aec9c6_55f2_11ec_ac88_0242ac1c0002row5_col1\" class=\"data row5 col1\" >5 (dog)</td>\n",
              "            </tr>\n",
              "            <tr>\n",
              "                        <th id=\"T_d5aec9c6_55f2_11ec_ac88_0242ac1c0002level0_row6\" class=\"row_heading level0 row6\" >6</th>\n",
              "                        <td id=\"T_d5aec9c6_55f2_11ec_ac88_0242ac1c0002row6_col0\" class=\"data row6 col0\" ><img src=\"data:image/png;base64,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\" alt=\"Img\" /></td>\n",
              "                        <td id=\"T_d5aec9c6_55f2_11ec_ac88_0242ac1c0002row6_col1\" class=\"data row6 col1\" >2 (bird)</td>\n",
              "            </tr>\n",
              "            <tr>\n",
              "                        <th id=\"T_d5aec9c6_55f2_11ec_ac88_0242ac1c0002level0_row7\" class=\"row_heading level0 row7\" >7</th>\n",
              "                        <td id=\"T_d5aec9c6_55f2_11ec_ac88_0242ac1c0002row7_col0\" class=\"data row7 col0\" ><img src=\"data:image/png;base64,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\" alt=\"Img\" /></td>\n",
              "                        <td id=\"T_d5aec9c6_55f2_11ec_ac88_0242ac1c0002row7_col1\" class=\"data row7 col1\" >9 (truck)</td>\n",
              "            </tr>\n",
              "            <tr>\n",
              "                        <th id=\"T_d5aec9c6_55f2_11ec_ac88_0242ac1c0002level0_row8\" class=\"row_heading level0 row8\" >8</th>\n",
              "                        <td id=\"T_d5aec9c6_55f2_11ec_ac88_0242ac1c0002row8_col0\" class=\"data row8 col0\" ><img src=\"data:image/png;base64,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\" alt=\"Img\" /></td>\n",
              "                        <td id=\"T_d5aec9c6_55f2_11ec_ac88_0242ac1c0002row8_col1\" class=\"data row8 col1\" >6 (frog)</td>\n",
              "            </tr>\n",
              "            <tr>\n",
              "                        <th id=\"T_d5aec9c6_55f2_11ec_ac88_0242ac1c0002level0_row9\" class=\"row_heading level0 row9\" >9</th>\n",
              "                        <td id=\"T_d5aec9c6_55f2_11ec_ac88_0242ac1c0002row9_col0\" class=\"data row9 col0\" ><img src=\"data:image/png;base64,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\" alt=\"Img\" /></td>\n",
              "                        <td id=\"T_d5aec9c6_55f2_11ec_ac88_0242ac1c0002row9_col1\" class=\"data row9 col1\" >6 (frog)</td>\n",
              "            </tr>\n",
              "    </tbody></table>"
            ],
            "text/plain": [
              "                                               image  label\n",
              "0  [[[143, 96, 70], [141, 96, 72], [135, 93, 72],...      7\n",
              "1  [[[203, 214, 234], [191, 207, 226], [178, 200,...      8\n",
              "2  [[[106, 103, 104], [103, 97, 99], [102, 93, 96...      4\n",
              "3  [[[53, 53, 60], [63, 62, 66], [74, 72, 75], [8...      4\n",
              "4  [[[22, 23, 15], [15, 16, 8], [23, 24, 16], [42...      6\n",
              "5  [[[41, 44, 28], [67, 75, 52], [56, 58, 35], [4...      5\n",
              "6  [[[154, 165, 116], [160, 161, 130], [165, 167,...      2\n",
              "7  [[[252, 252, 252], [249, 249, 249], [249, 249,...      9\n",
              "8  [[[115, 112, 59], [111, 108, 59], [110, 109, 5...      6\n",
              "9  [[[13, 17, 12], [16, 21, 15], [21, 26, 20], [1...      6"
            ]
          },
          "metadata": {},
          "execution_count": 3
        }
      ]
    },
    {
      "cell_type": "code",
      "metadata": {
        "colab": {
          "base_uri": "https://localhost:8080/"
        },
        "id": "y6VwlPZdCXCV",
        "outputId": "ab14af38-2140-416e-dc48-ae84bfef99b2"
      },
      "source": [
        "training_ds, testing_ds"
      ],
      "execution_count": null,
      "outputs": [
        {
          "output_type": "execute_result",
          "data": {
            "text/plain": [
              "(<PrefetchDataset shapes: ((None, 32, 32, 3), (None, 10)), types: (tf.float32, tf.float32)>,\n",
              " <PrefetchDataset shapes: ((None, 32, 32, 3), (None, 10)), types: (tf.float32, tf.float32)>)"
            ]
          },
          "metadata": {},
          "execution_count": 4
        }
      ]
    },
    {
      "cell_type": "markdown",
      "metadata": {
        "id": "ai37708OEHWK"
      },
      "source": [
        "## **2. Residual Block**\n",
        "\n",
        "\n"
      ]
    },
    {
      "cell_type": "code",
      "metadata": {
        "id": "QhSZysuAEU8s"
      },
      "source": [
        "from tensorflow.keras import Model\n",
        "from tensorflow.keras.layers import Layer\n",
        "\n",
        "class ResidualBlock(Layer):\n",
        "  def __init__(self, num_filters):\n",
        "    super(ResidualBlock, self).__init__()\n",
        "  \n",
        "    self.filter1, self.filter2 = num_filters\n",
        "\n",
        "    self.ResBlockLayers = [\n",
        "                           tf.keras.layers.Conv2D(filters=self.filter1, kernel_size=(3,3), padding=\"same\",  activation=None),\n",
        "                           tf.keras.layers.BatchNormalization(),\n",
        "                           tf.keras.layers.ReLU(),\n",
        "                           tf.keras.layers.Conv2D(filters=self.filter2, kernel_size=(3,3), padding=\"same\",  activation=None),\n",
        "                           tf.keras.layers.BatchNormalization(),\n",
        "                           ]\n",
        "     \n",
        "  @tf.function \n",
        "  def call(self, x, training = True):\n",
        "      output = x\n",
        "\n",
        "      for layer in self.ResBlockLayers:\n",
        "        output = layer(output, training = training)\n",
        "      \n",
        "      output = x + output\n",
        "\n",
        "      return tf.nn.relu(output)"
      ],
      "execution_count": null,
      "outputs": []
    },
    {
      "cell_type": "markdown",
      "metadata": {
        "id": "yi63rs2cnq1p"
      },
      "source": [
        "## **3. ResNet**"
      ]
    },
    {
      "cell_type": "code",
      "metadata": {
        "id": "QbOz3zzhGnRX"
      },
      "source": [
        "class ResNet(Model):\n",
        "\n",
        "  def __init__(self):\n",
        "    super(ResNet, self).__init__()\n",
        "\n",
        "    self.ResNetLayers = [\n",
        "                         tf.keras.layers.Conv2D(filters=64, kernel_size=(3,3), padding=\"same\",  activation=None),\n",
        "                         tf.keras.layers.BatchNormalization(),\n",
        "                         tf.keras.layers.ReLU()\n",
        "                         ]  \n",
        "\n",
        "    self.ResNetLayers.append(ResidualBlock(num_filters=[64,64]))\n",
        "    self.ResNetLayers.append(ResidualBlock(num_filters=[64,64]))\n",
        "\n",
        "    self.PoolingBlock1 = [\n",
        "                          tf.keras.layers.Conv2D(filters=128, kernel_size=(2,2), strides = 2, padding=\"same\",  activation=None),\n",
        "                          tf.keras.layers.BatchNormalization(),\n",
        "                          tf.keras.layers.ReLU(),\n",
        "                          tf.keras.layers.Dropout(0.5)\n",
        "                          ]\n",
        "\n",
        "    self.ResNetLayers.extend(self.PoolingBlock1)\n",
        "\n",
        "    self.ResNetLayers.append(ResidualBlock(num_filters=[128,128]))\n",
        "    self.ResNetLayers.append(ResidualBlock(num_filters=[128,128]))\n",
        "\n",
        "    self.PoolingBlock2 = [\n",
        "                          tf.keras.layers.Conv2D(filters=256, kernel_size=(2,2), strides = 2, padding=\"same\",  activation=None),\n",
        "                          tf.keras.layers.BatchNormalization(),\n",
        "                          tf.keras.layers.ReLU(),\n",
        "                          tf.keras.layers.Dropout(0.5)\n",
        "                          ]\n",
        "\n",
        "    self.ResNetLayers.extend(self.PoolingBlock2)\n",
        "\n",
        "    self.ResNetLayers.append(ResidualBlock(num_filters=[256,256]))\n",
        "    self.ResNetLayers.append(ResidualBlock(num_filters=[256,256]))\n",
        "\n",
        "    self.Classifier = [\n",
        "                       tf.keras.layers.GlobalAveragePooling2D(),\n",
        "                       tf.keras.layers.Dense(units=128, activation=None), \n",
        "                       tf.keras.layers.BatchNormalization(), \n",
        "                       tf.keras.layers.ReLU(),\n",
        "                       tf.keras.layers.Dense(units=10, activation=tf.keras.activations.softmax)\n",
        "                       ]\n",
        "   \n",
        "    self.ResNetLayers.extend(self.Classifier)\n",
        "\n",
        "  @tf.function    \n",
        "  def call(self, x, training = True):\n",
        "    for layer in self.ResNetLayers:\n",
        "      x = layer(x, training = training)\n",
        "    return x"
      ],
      "execution_count": null,
      "outputs": []
    },
    {
      "cell_type": "markdown",
      "metadata": {
        "id": "txnnDfu0qE18"
      },
      "source": [
        "## **4. Transition Layers**"
      ]
    },
    {
      "cell_type": "code",
      "metadata": {
        "id": "iZfwFOc_Gyt6"
      },
      "source": [
        "class TransitionLayers(Layer):\n",
        "  \n",
        "  def __init__(self, num_filters):\n",
        "    super(TransitionLayers, self).__init__()\n",
        "\n",
        "    self.filter1, self.filter2 = num_filters\n",
        "\n",
        "    self.TransitionLayer = [\n",
        "                            tf.keras.layers.BatchNormalization(epsilon=0.001),\n",
        "                            tf.keras.layers.ReLU(),                           \n",
        "                            tf.keras.layers.Conv2D(filters=self.filter1, kernel_size=(1,1), strides=1, padding=\"same\",  activation=None),\n",
        "                            tf.keras.layers.BatchNormalization(epsilon=0.001),\n",
        "                            tf.keras.layers.ReLU(),\n",
        "                            tf.keras.layers.Conv2D(filters=self.filter2, kernel_size=(2,2), strides=2, padding=\"same\",  activation=None),\n",
        "                            tf.keras.layers.Dropout(0.5)\n",
        "                            ]\n",
        "\n",
        "  @tf.function \n",
        "  def call(self, x, training=True):\n",
        "    for layer in self.TransitionLayer:\n",
        "      x = layer(x, training = training)\n",
        "    return x"
      ],
      "execution_count": null,
      "outputs": []
    },
    {
      "cell_type": "markdown",
      "metadata": {
        "id": "uIRLm0TRqNFB"
      },
      "source": [
        "## **5. Block**"
      ]
    },
    {
      "cell_type": "code",
      "metadata": {
        "id": "23Xz1DWqG2VK"
      },
      "source": [
        "class Block(Layer):\n",
        "\n",
        "  def __init__(self, filter, growth_rate):\n",
        "    super(Block, self).__init__()\n",
        "\n",
        "    self.BlockLayers = [\n",
        "                        tf.keras.layers.BatchNormalization(epsilon=0.001),\n",
        "                        tf.keras.layers.ReLU(),\n",
        "                        tf.keras.layers.Conv2D(filters=filter, kernel_size=(1,1), padding=\"same\",  activation=None),\n",
        "                        tf.keras.layers.BatchNormalization(epsilon=0.001),\n",
        "                        tf.keras.layers.ReLU(),\n",
        "                        tf.keras.layers.Conv2D(filters=growth_rate, kernel_size=(3,3), padding=\"same\",  activation=None)\n",
        "                        ]\n",
        "\n",
        "    self.concatenate = tf.keras.layers.Concatenate()\n",
        "\n",
        "  @tf.function \n",
        "  def call(self, x, training=True):\n",
        "    y = x\n",
        "\n",
        "    for layer in self.BlockLayers:\n",
        "      y = layer(y, training = training)\n",
        "\n",
        "    y = self.concatenate([y,x])\n",
        "    return y"
      ],
      "execution_count": null,
      "outputs": []
    },
    {
      "cell_type": "markdown",
      "metadata": {
        "id": "5R9OYYu1YlLV"
      },
      "source": [
        "##**6. Dense Block**"
      ]
    },
    {
      "cell_type": "code",
      "metadata": {
        "id": "H9_ouXTDG5Fs"
      },
      "source": [
        "class DenseBlock(Layer):\n",
        "\n",
        "  def __init__(self, filter, growth_rate, num_blocks):\n",
        "    super(DenseBlock, self).__init__()\n",
        "\n",
        "    self.DenseBlockLayers = [Block(filter, growth_rate) for _ in range(num_blocks)]\n",
        "\n",
        "\n",
        "  @tf.function \n",
        "  def call(self, x, training=True):\n",
        "    for block in self.DenseBlockLayers:\n",
        "      x = block(x, training = training)\n",
        "\n",
        "    return x"
      ],
      "execution_count": null,
      "outputs": []
    },
    {
      "cell_type": "markdown",
      "metadata": {
        "id": "1Hx8sbF-qSdD"
      },
      "source": [
        "## **7. DenseNet**"
      ]
    },
    {
      "cell_type": "code",
      "metadata": {
        "id": "W0s9zhh6G73C"
      },
      "source": [
        "class DenseNetwork(Model):\n",
        "\n",
        "  def __init__(self):\n",
        "    super(DenseNetwork, self).__init__()\n",
        "\n",
        "    self.DenseNetLayers = [tf.keras.layers.Conv2D(filters=32, kernel_size=(3,3), padding=\"same\",  activation=None)]\n",
        "\n",
        "    self.DenseNetLayers.append(DenseBlock(filter=32, growth_rate=32, num_blocks=4))\n",
        "\n",
        "    self.DenseNetLayers.append(TransitionLayers(num_filters=[32,64]))\n",
        "\n",
        "    self.DenseNetLayers.append(DenseBlock(filter=64, growth_rate=64, num_blocks=4))\n",
        "\n",
        "    self.DenseNetLayers.append(TransitionLayers(num_filters=[64,128]))\n",
        "\n",
        "    self.DenseNetLayers.append(DenseBlock(filter=128, growth_rate=128, num_blocks=4))\n",
        "\n",
        "\n",
        "    self.Classifier = [\n",
        "                       tf.keras.layers.BatchNormalization(epsilon=0.001),\n",
        "                       tf.keras.layers.ReLU(),\n",
        "                       tf.keras.layers.GlobalAvgPool2D(), \n",
        "                       tf.keras.layers.Dense(units=128, activation=None), \n",
        "                       tf.keras.layers.BatchNormalization(epsilon=0.001), \n",
        "                       tf.keras.layers.ReLU(),\n",
        "                       tf.keras.layers.Dense(units=10, activation=tf.keras.activations.softmax)\n",
        "                       ]\n",
        "   \n",
        "    self.DenseNetLayers.extend(self.Classifier)\n",
        "\n",
        "  @tf.function    \n",
        "  def call(self, x, training = True):\n",
        "    for layer in self.DenseNetLayers:\n",
        "      x = layer(x, training = training)\n",
        "    return x"
      ],
      "execution_count": null,
      "outputs": []
    },
    {
      "cell_type": "markdown",
      "metadata": {
        "id": "kwGZBmP3Co04"
      },
      "source": [
        "## **8. Training**"
      ]
    },
    {
      "cell_type": "code",
      "metadata": {
        "id": "vJ51CVVICnKY"
      },
      "source": [
        "def train_step(model, input, target, loss_function, optimizer):\n",
        "  with tf.GradientTape() as tape:\n",
        "    prediction = model(input, training=True)                                     \n",
        "    loss = loss_function(target, prediction)                                                                    \n",
        "  gradients = tape.gradient(loss, model.trainable_variables)    \n",
        "  optimizer.apply_gradients(zip(gradients, model.trainable_variables))  \n",
        "  return loss\n",
        "\n",
        "def test(model, test_data, loss_function):\n",
        "\n",
        "  test_accuracy_aggregator = []\n",
        "  test_loss_aggregator = [] \n",
        "\n",
        "  for (input, target) in test_data:\n",
        "    prediction = model(input, training=False)\n",
        "    sample_test_loss = loss_function(target, prediction) \n",
        "    sample_test_accuracy = np.argmax(target, axis=1) == np.argmax(prediction, axis=1)\n",
        "    sample_test_accuracy = np.mean(sample_test_accuracy)\n",
        "    test_loss_aggregator.append(sample_test_loss.numpy())\n",
        "    test_accuracy_aggregator.append(np.mean(sample_test_accuracy))\n",
        "\n",
        "  test_loss = np.mean(test_loss_aggregator)\n",
        "  test_accuracy = np.mean(test_accuracy_aggregator)\n",
        "\n",
        "  return test_loss, test_accuracy"
      ],
      "execution_count": null,
      "outputs": []
    },
    {
      "cell_type": "code",
      "metadata": {
        "id": "UXzuoZXBHLfE"
      },
      "source": [
        "tf.keras.backend.clear_session()\n",
        "\n",
        "# Hyperparameters of the model.\n",
        "num_epochs = 30\n",
        "learning_rate = 0.1\n",
        "cross_entropy_loss = tf.keras.losses.CategoricalCrossentropy() \n",
        "optimizer = tf.keras.optimizers.Adam(learning_rate) \n",
        "\n",
        "model = DenseNetwork()"
      ],
      "execution_count": null,
      "outputs": []
    },
    {
      "cell_type": "code",
      "metadata": {
        "id": "lOn-rtT5Hp7g"
      },
      "source": [
        "# Initialize lists for later visualization.\n",
        "train_losses = []\n",
        "\n",
        "test_losses = []\n",
        "test_accuracies = []\n",
        "\n",
        "# Testing once before we begin.\n",
        "test_loss, test_accuracy = test(model, testing_ds, cross_entropy_loss)\n",
        "test_losses.append(test_loss)\n",
        "test_accuracies.append(test_accuracy)\n",
        "\n",
        "# Check how model performs on train data once before we begin.\n",
        "train_loss, _ = test(model, training_ds, cross_entropy_loss)\n",
        "train_losses.append(train_loss)"
      ],
      "execution_count": null,
      "outputs": []
    },
    {
      "cell_type": "code",
      "metadata": {
        "colab": {
          "base_uri": "https://localhost:8080/"
        },
        "id": "V0GyUFHrHwl0",
        "outputId": "5087d336-fa69-4e85-9372-8e2e100a9fab"
      },
      "source": [
        "# We train for num_epochs epochs.\n",
        "for epoch in range(num_epochs):\n",
        "    print(f'Epoch: {str(epoch)} starting with accuracy {test_accuracies[-1]}')\n",
        "\n",
        "    # Training (and checking in with training).\n",
        "    epoch_loss_agg = []\n",
        "    for input, target in training_ds:\n",
        "        train_loss = train_step(model, input, target, cross_entropy_loss, optimizer)\n",
        "        epoch_loss_agg.append(train_loss)\n",
        "    \n",
        "    # Track training loss and accuracy.\n",
        "    train_losses.append(tf.reduce_mean(epoch_loss_agg))\n",
        "\n",
        "    # Testing\n",
        "    test_loss, test_accuracy = test(model, testing_ds, cross_entropy_loss)\n",
        "    test_losses.append(test_loss)\n",
        "    test_accuracies.append(test_accuracy)"
      ],
      "execution_count": null,
      "outputs": [
        {
          "output_type": "stream",
          "name": "stdout",
          "text": [
            "Epoch: 0 starting with accuracy 0.09653662420382166\n",
            "Epoch: 1 starting with accuracy 0.30324442675159236\n",
            "Epoch: 2 starting with accuracy 0.3346934713375796\n",
            "Epoch: 3 starting with accuracy 0.3401671974522293\n",
            "Epoch: 4 starting with accuracy 0.476015127388535\n",
            "Epoch: 5 starting with accuracy 0.43919187898089174\n",
            "Epoch: 6 starting with accuracy 0.5760350318471338\n",
            "Epoch: 7 starting with accuracy 0.5725517515923567\n",
            "Epoch: 8 starting with accuracy 0.6089769108280255\n",
            "Epoch: 9 starting with accuracy 0.6381369426751592\n",
            "Epoch: 10 starting with accuracy 0.65515525477707\n",
            "Epoch: 11 starting with accuracy 0.6681926751592356\n",
            "Epoch: 12 starting with accuracy 0.6867038216560509\n",
            "Epoch: 13 starting with accuracy 0.6621218152866242\n",
            "Epoch: 14 starting with accuracy 0.6831210191082803\n",
            "Epoch: 15 starting with accuracy 0.7275079617834395\n",
            "Epoch: 16 starting with accuracy 0.6982484076433121\n",
            "Epoch: 17 starting with accuracy 0.7231289808917197\n",
            "Epoch: 18 starting with accuracy 0.737062101910828\n",
            "Epoch: 19 starting with accuracy 0.7263136942675159\n",
            "Epoch: 20 starting with accuracy 0.7495023885350318\n",
            "Epoch: 21 starting with accuracy 0.7323845541401274\n",
            "Epoch: 22 starting with accuracy 0.7359673566878981\n",
            "Epoch: 23 starting with accuracy 0.7738853503184714\n",
            "Epoch: 24 starting with accuracy 0.7086982484076433\n",
            "Epoch: 25 starting with accuracy 0.7533837579617835\n",
            "Epoch: 26 starting with accuracy 0.7631369426751592\n",
            "Epoch: 27 starting with accuracy 0.7781648089171974\n",
            "Epoch: 28 starting with accuracy 0.74890525477707\n",
            "Epoch: 29 starting with accuracy 0.727109872611465\n"
          ]
        }
      ]
    },
    {
      "cell_type": "markdown",
      "metadata": {
        "id": "vC-1Ede7qmwy"
      },
      "source": [
        "## **9. Visualisation**"
      ]
    },
    {
      "cell_type": "code",
      "metadata": {
        "id": "qRhCgDv9nYi0",
        "colab": {
          "base_uri": "https://localhost:8080/",
          "height": 279
        },
        "outputId": "24e90fca-2741-4bb8-c411-2eb0a7b436f2"
      },
      "source": [
        "# Visualize accuracy and loss for training and test data.\n",
        "plt.figure()\n",
        "line1, = plt.plot(train_losses)\n",
        "line2, = plt.plot(test_losses)\n",
        "line3, = plt.plot(test_accuracies)\n",
        "plt.xlabel(\"Training steps\")\n",
        "plt.ylabel(\"Loss/Accuracy\")\n",
        "plt.legend((line1,line2, line3),(\"train losses\",\"test losses\", \"test accuracy\"))\n",
        "plt.show()"
      ],
      "execution_count": null,
      "outputs": [
        {
          "output_type": "display_data",
          "data": {
            "image/png": "[encoded data removed]",
            "text/plain": [
              "<Figure size 432x288 with 1 Axes>"
            ]
          },
          "metadata": {
            "needs_background": "light"
          }
        }
      ]
    },
    {
      "cell_type": "code",
      "metadata": {
        "colab": {
          "base_uri": "https://localhost:8080/"
        },
        "id": "iSdlNUw_UsFe",
        "outputId": "72949f4c-7e79-48c7-d3cc-f2c00a31c5cc"
      },
      "source": [
        "model.summary()"
      ],
      "execution_count": null,
      "outputs": [
        {
          "output_type": "stream",
          "name": "stdout",
          "text": [
            "Model: \"dense_network\"\n",
            "_________________________________________________________________\n",
            " Layer (type)                Output Shape              Param #   \n",
            "=================================================================\n",
            " conv2d (Conv2D)             multiple                  896       \n",
            "                                                                 \n",
            " dense_block (DenseBlock)    multiple                  49152     \n",
            "                                                                 \n",
            " transition_layers (Transiti  multiple                 14176     \n",
            " onLayers)                                                       \n",
            "                                                                 \n",
            " dense_block_1 (DenseBlock)  multiple                  192512    \n",
            "                                                                 \n",
            " transition_layers_1 (Transi  multiple                 54976     \n",
            " tionLayers)                                                     \n",
            "                                                                 \n",
            " dense_block_2 (DenseBlock)  multiple                  761856    \n",
            "                                                                 \n",
            " batch_normalization_28 (Bat  multiple                 2560      \n",
            " chNormalization)                                                \n",
            "                                                                 \n",
            " re_lu_28 (ReLU)             multiple                  0         \n",
            "                                                                 \n",
            " global_average_pooling2d (G  multiple                 0         \n",
            " lobalAveragePooling2D)                                          \n",
            "                                                                 \n",
            " dense (Dense)               multiple                  82048     \n",
            "                                                                 \n",
            " batch_normalization_29 (Bat  multiple                 512       \n",
            " chNormalization)                                                \n",
            "                                                                 \n",
            " re_lu_29 (ReLU)             multiple                  0         \n",
            "                                                                 \n",
            " dense_1 (Dense)             multiple                  1290      \n",
            "                                                                 \n",
            "=================================================================\n",
            "Total params: 1,159,978\n",
            "Trainable params: 1,151,018\n",
            "Non-trainable params: 8,960\n",
            "_________________________________________________________________\n"
          ]
        }
      ]
    }
  ]
}