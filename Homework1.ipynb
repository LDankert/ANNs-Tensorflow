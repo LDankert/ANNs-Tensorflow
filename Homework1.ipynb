{
 "cells": [
  {
   "cell_type": "code",
   "execution_count": 3,
   "metadata": {},
   "outputs": [
    {
     "name": "stdout",
     "output_type": "stream",
     "text": [
      "0.8807970779778823\n",
      "0.10499358540350656\n"
     ]
    }
   ],
   "source": [
    "\n",
    "import numpy as np\n",
    "def sigmoid(x):\n",
    "    return 1 / (1 + np.exp(-x))\n",
    "\n",
    "\n",
    "def sigmoidprime(x):\n",
    "    sig= sigmoid(x)\n",
    "    return sig-(sig**2)\n",
    "\n",
    "print(sigmoid(2))\n",
    "print(sigmoidprime(2))"
   ]
  },
  {
   "cell_type": "code",
   "execution_count": 5,
   "metadata": {},
   "outputs": [],
   "source": [
    "\n",
    "\n",
    "inputs = np.array([[0,0], [0,1], [1,0], [1,1]])\n",
    "\n",
    "_and=np.array([0,0,0,1])\n",
    "_xor=np.array([0,1,1,0])\n",
    "_or=np.array([0,1,1,1])\n",
    "_nand=np.array([0,1,1,1])\n",
    "_nor=np.array([1,0,0,0])\n",
    "\n",
    "\n",
    "\n"
   ]
  },
  {
   "cell_type": "code",
   "execution_count": 9,
   "metadata": {},
   "outputs": [
    {
     "ename": "NameError",
     "evalue": "name 'inputs' is not defined",
     "output_type": "error",
     "traceback": [
      "\u001b[1;31m---------------------------------------------------------------------------\u001b[0m",
      "\u001b[1;31mNameError\u001b[0m                                 Traceback (most recent call last)",
      "\u001b[1;32m<ipython-input-9-0366b2c554d1>\u001b[0m in \u001b[0;36m<module>\u001b[1;34m\u001b[0m\n\u001b[0;32m     14\u001b[0m         \u001b[0mself\u001b[0m\u001b[1;33m.\u001b[0m\u001b[0mbias\u001b[0m \u001b[1;33m=\u001b[0m \u001b[0mself\u001b[0m\u001b[1;33m.\u001b[0m\u001b[0mbias\u001b[0m \u001b[1;33m-\u001b[0m \u001b[0mself\u001b[0m\u001b[1;33m.\u001b[0m\u001b[0malpha\u001b[0m \u001b[1;33m*\u001b[0m \u001b[0mgradient\u001b[0m\u001b[1;33m\u001b[0m\u001b[1;33m\u001b[0m\u001b[0m\n\u001b[0;32m     15\u001b[0m \u001b[1;33m\u001b[0m\u001b[0m\n\u001b[1;32m---> 16\u001b[1;33m \u001b[0mPerceptron\u001b[0m\u001b[1;33m.\u001b[0m\u001b[0mforward_step\u001b[0m\u001b[1;33m(\u001b[0m\u001b[0minputs\u001b[0m\u001b[1;33m)\u001b[0m\u001b[1;33m\u001b[0m\u001b[1;33m\u001b[0m\u001b[0m\n\u001b[0m\u001b[0;32m     17\u001b[0m \u001b[1;33m\u001b[0m\u001b[0m\n",
      "\u001b[1;31mNameError\u001b[0m: name 'inputs' is not defined"
     ]
    }
   ],
   "source": [
    "class Perceptron():\n",
    "    def __init__(self, input_units):\n",
    "        self.alpha=1\n",
    "        self.weights=np.random.randn(input_units)\n",
    "        self.bias=np.random.randn()\n",
    "        self.activation_func = sigmoid()\n",
    "    def forward_step(self, inputs):\n",
    "        #was muss hier nochmal gemacht werden\n",
    "        return self.activation_func(self.weights @ np.append(1,inputs))\n",
    "    def update(self, data):\n",
    "        #compute gradients for weights and bias\n",
    "        gradient = delta * self.activation\n",
    "        self.weights = self.weights - self.alpha * gradient\n",
    "        self.bias = self.bias - self.alpha * gradient\n",
    "\n",
    "Perceptron.forward_step(inputs)\n",
    "        "
   ]
  },
  {
   "cell_type": "code",
   "execution_count": null,
   "metadata": {},
   "outputs": [],
   "source": [
    "class MLP():\n",
    "    def __init__(self, perceptrons):\n",
    "        self.perceptrons = perceptrons\n",
    "        self.outputs = Perceptron(len(self.perceptrons))\n",
    "    def forward_step(self, inputs):\n",
    "        #activation for the hidden layer\n",
    "        #np.reshape(arr, newshape=(-1)).)\n",
    "        for i in inputs:\n",
    "            -\n",
    "    def backprop_step:\n",
    "        #update te weights and the biases of the output neuron and then hidden layer\n",
    "        # first compute error term\n",
    "        #then call update(self, delta) of the neuron and hand delta over\n"
   ]
  },
  {
   "cell_type": "code",
   "execution_count": null,
   "metadata": {},
   "outputs": [],
   "source": [
    "def loss_function():\n",
    "    return (t-y)**2\n",
    "\n",
    "def accuracy_measure(output):\n",
    "    threshold= 0.5\n",
    "    if output> threshold and target ==1:\n",
    "        # correct classification\n",
    "    if output<threshold and target ==0:\n",
    "        #correct classification\n",
    "    #ration of correct classification vs classification performed\n",
    "        \n",
    "\n",
    "#accuracy measure"
   ]
  },
  {
   "cell_type": "code",
   "execution_count": null,
   "metadata": {},
   "outputs": [],
   "source": [
    "#training instance of MlP\n",
    "import matplotlib.pyplot as plt\n",
    "EPOCHS=1000\n",
    "mlp = MLP(4)\n",
    "epoch_count=0\n",
    "\n",
    "fig, ax = plt.subplots(num='Training')\n",
    "scatter = ax.scatter(*inputs.T, 2)\n",
    "plt.show()\n",
    "for epoch in range(1, EPOCHS + 1):\n",
    "    MLP.forward_step(inputs[sample_index], targets[sample_index])\n",
    "    # backwards step\n",
    "    #accuracy\n",
    "    #loss function\n",
    "    loss= loss_function(output, target)\n",
    "    #accuracy as a list and then calculates eg. number of 1 as correct\n",
    "    accuracy= accuracy_measure(output, target)\n",
    "    epoch_count=+1\n",
    "    \n",
    "    \n"
   ]
  },
  {
   "cell_type": "code",
   "execution_count": 17,
   "metadata": {},
   "outputs": [
    {
     "data": {
      "image/png": "[encoded data removed]",
      "text/plain": [
       "<Figure size 432x288 with 1 Axes>"
      ]
     },
     "metadata": {
      "needs_background": "light"
     },
     "output_type": "display_data"
    },
    {
     "data": {
      "image/png": "[encoded data removed]",
      "text/plain": [
       "<Figure size 432x288 with 1 Axes>"
      ]
     },
     "metadata": {
      "needs_background": "light"
     },
     "output_type": "display_data"
    }
   ],
   "source": [
    "import matplotlib.pyplot as plt\n",
    "loss_development= [1,0.5,0]\n",
    "\n",
    "fig = plt.figure()\n",
    "ax = plt.axes()\n",
    "\n",
    "#x = np.linspace(0,1,3)\n",
    "ax.plot(x, loss_development);\n",
    "\n",
    "\n",
    "accuracy_development=[0,0.5,1]\n",
    "fig = plt.figure()\n",
    "ax = plt.axes()\n",
    "\n",
    "#x = np.linspace(0,1,3)\n",
    "ax.plot(x, accuracy_development);"
   ]
  },
  {
   "cell_type": "code",
   "execution_count": null,
   "metadata": {},
   "outputs": [],
   "source": []
  }
 ],
 "metadata": {
  "kernelspec": {
   "display_name": "Python 3",
   "language": "python",
   "name": "python3"
  },
  "language_info": {
   "codemirror_mode": {
    "name": "ipython",
    "version": 3
   },
   "file_extension": ".py",
   "mimetype": "text/x-python",
   "name": "python",
   "nbconvert_exporter": "python",
   "pygments_lexer": "ipython3",
   "version": "3.7.6"
  }
 },
 "nbformat": 4,
 "nbformat_minor": 4
}
